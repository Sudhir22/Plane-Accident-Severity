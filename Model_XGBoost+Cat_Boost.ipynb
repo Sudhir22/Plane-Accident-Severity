{
  "nbformat": 4,
  "nbformat_minor": 0,
  "metadata": {
    "colab": {
      "name": "Model_XGBoost+Cat Boost.ipynb",
      "provenance": [],
      "authorship_tag": "ABX9TyM6IMK87wJoh/YonA+Y46+3",
      "include_colab_link": true
    },
    "kernelspec": {
      "name": "python3",
      "display_name": "Python 3"
    }
  },
  "cells": [
    {
      "cell_type": "markdown",
      "metadata": {
        "id": "view-in-github",
        "colab_type": "text"
      },
      "source": [
        "<a href=\"https://colab.research.google.com/github/Sudhir22/Plane-Accident-Severity/blob/master/Model_XGBoost%2BCat_Boost.ipynb\" target=\"_parent\"><img src=\"https://colab.research.google.com/assets/colab-badge.svg\" alt=\"Open In Colab\"/></a>"
      ]
    },
    {
      "cell_type": "code",
      "metadata": {
        "id": "jc_Mrtk-TKsZ",
        "colab_type": "code",
        "outputId": "f6d1a118-1db5-43e2-86cf-54f6dc4ef3a0",
        "colab": {
          "base_uri": "https://localhost:8080/",
          "height": 121
        }
      },
      "source": [
        "!pip install -q xlrd\n",
        "!git clone https://github.com/Sudhir22/Plane-Accident-Severity.git"
      ],
      "execution_count": 0,
      "outputs": [
        {
          "output_type": "stream",
          "text": [
            "Cloning into 'Plane-Accident-Severity'...\n",
            "remote: Enumerating objects: 23, done.\u001b[K\n",
            "remote: Counting objects:   4% (1/23)\u001b[K\rremote: Counting objects:   8% (2/23)\u001b[K\rremote: Counting objects:  13% (3/23)\u001b[K\rremote: Counting objects:  17% (4/23)\u001b[K\rremote: Counting objects:  21% (5/23)\u001b[K\rremote: Counting objects:  26% (6/23)\u001b[K\rremote: Counting objects:  30% (7/23)\u001b[K\rremote: Counting objects:  34% (8/23)\u001b[K\rremote: Counting objects:  39% (9/23)\u001b[K\rremote: Counting objects:  43% (10/23)\u001b[K\rremote: Counting objects:  47% (11/23)\u001b[K\rremote: Counting objects:  52% (12/23)\u001b[K\rremote: Counting objects:  56% (13/23)\u001b[K\rremote: Counting objects:  60% (14/23)\u001b[K\rremote: Counting objects:  65% (15/23)\u001b[K\rremote: Counting objects:  69% (16/23)\u001b[K\rremote: Counting objects:  73% (17/23)\u001b[K\rremote: Counting objects:  78% (18/23)\u001b[K\rremote: Counting objects:  82% (19/23)\u001b[K\rremote: Counting objects:  86% (20/23)\u001b[K\rremote: Counting objects:  91% (21/23)\u001b[K\rremote: Counting objects:  95% (22/23)\u001b[K\rremote: Counting objects: 100% (23/23)\u001b[K\rremote: Counting objects: 100% (23/23), done.\u001b[K\n",
            "remote: Compressing objects:   4% (1/21)\u001b[K\rremote: Compressing objects:   9% (2/21)\u001b[K\rremote: Compressing objects:  14% (3/21)\u001b[K\rremote: Compressing objects:  19% (4/21)\u001b[K\rremote: Compressing objects:  23% (5/21)\u001b[K\rremote: Compressing objects:  28% (6/21)\u001b[K\rremote: Compressing objects:  33% (7/21)\u001b[K\rremote: Compressing objects:  38% (8/21)\u001b[K\rremote: Compressing objects:  42% (9/21)\u001b[K\rremote: Compressing objects:  47% (10/21)\u001b[K\rremote: Compressing objects:  52% (11/21)\u001b[K\rremote: Compressing objects:  57% (12/21)\u001b[K\rremote: Compressing objects:  61% (13/21)\u001b[K\rremote: Compressing objects:  66% (14/21)\u001b[K\rremote: Compressing objects:  71% (15/21)\u001b[K\rremote: Compressing objects:  76% (16/21)\u001b[K\rremote: Compressing objects:  80% (17/21)\u001b[K\rremote: Compressing objects:  85% (18/21)\u001b[K\rremote: Compressing objects:  90% (19/21)\u001b[K\rremote: Compressing objects:  95% (20/21)\u001b[K\rremote: Compressing objects: 100% (21/21)\u001b[K\rremote: Compressing objects: 100% (21/21), done.\u001b[K\n",
            "remote: Total 23 (delta 9), reused 0 (delta 0), pack-reused 0\u001b[K\n",
            "Unpacking objects: 100% (23/23), done.\n"
          ],
          "name": "stdout"
        }
      ]
    },
    {
      "cell_type": "code",
      "metadata": {
        "id": "Azu19l6irIed",
        "colab_type": "code",
        "outputId": "5e6d803a-7b78-48dd-ef62-c27a87aea610",
        "colab": {
          "base_uri": "https://localhost:8080/",
          "height": 347
        }
      },
      "source": [
        "pip install catboost"
      ],
      "execution_count": 0,
      "outputs": [
        {
          "output_type": "stream",
          "text": [
            "Collecting catboost\n",
            "\u001b[?25l  Downloading https://files.pythonhosted.org/packages/ca/ae/aaff63662f7f5d2af7ec8d61a6f39e78ada9348e5df4f43e665ecc4bea10/catboost-0.21-cp36-none-manylinux1_x86_64.whl (64.0MB)\n",
            "\u001b[K     |████████████████████████████████| 64.0MB 67kB/s \n",
            "\u001b[?25hRequirement already satisfied: pandas>=0.24.0 in /usr/local/lib/python3.6/dist-packages (from catboost) (0.25.3)\n",
            "Requirement already satisfied: six in /usr/local/lib/python3.6/dist-packages (from catboost) (1.12.0)\n",
            "Requirement already satisfied: plotly in /usr/local/lib/python3.6/dist-packages (from catboost) (4.4.1)\n",
            "Requirement already satisfied: numpy>=1.16.0 in /usr/local/lib/python3.6/dist-packages (from catboost) (1.17.5)\n",
            "Requirement already satisfied: scipy in /usr/local/lib/python3.6/dist-packages (from catboost) (1.4.1)\n",
            "Requirement already satisfied: matplotlib in /usr/local/lib/python3.6/dist-packages (from catboost) (3.1.2)\n",
            "Requirement already satisfied: graphviz in /usr/local/lib/python3.6/dist-packages (from catboost) (0.10.1)\n",
            "Requirement already satisfied: pytz>=2017.2 in /usr/local/lib/python3.6/dist-packages (from pandas>=0.24.0->catboost) (2018.9)\n",
            "Requirement already satisfied: python-dateutil>=2.6.1 in /usr/local/lib/python3.6/dist-packages (from pandas>=0.24.0->catboost) (2.6.1)\n",
            "Requirement already satisfied: retrying>=1.3.3 in /usr/local/lib/python3.6/dist-packages (from plotly->catboost) (1.3.3)\n",
            "Requirement already satisfied: kiwisolver>=1.0.1 in /usr/local/lib/python3.6/dist-packages (from matplotlib->catboost) (1.1.0)\n",
            "Requirement already satisfied: pyparsing!=2.0.4,!=2.1.2,!=2.1.6,>=2.0.1 in /usr/local/lib/python3.6/dist-packages (from matplotlib->catboost) (2.4.6)\n",
            "Requirement already satisfied: cycler>=0.10 in /usr/local/lib/python3.6/dist-packages (from matplotlib->catboost) (0.10.0)\n",
            "Requirement already satisfied: setuptools in /usr/local/lib/python3.6/dist-packages (from kiwisolver>=1.0.1->matplotlib->catboost) (45.1.0)\n",
            "Installing collected packages: catboost\n",
            "Successfully installed catboost-0.21\n"
          ],
          "name": "stdout"
        }
      ]
    },
    {
      "cell_type": "code",
      "metadata": {
        "id": "Zfd--glZTy0o",
        "colab_type": "code",
        "colab": {}
      },
      "source": [
        "import pandas as pd\n",
        "import xgboost as xbg\n",
        "from sklearn.model_selection import train_test_split\n",
        "import numpy as np\n",
        "from sklearn.metrics import precision_score, recall_score, accuracy_score,f1_score\n",
        "from sklearn.model_selection import KFold\n",
        "import seaborn as sns\n",
        "from sklearn.svm import SVC\n",
        "from sklearn.neural_network import MLPClassifier\n",
        "from catboost import CatBoostClassifier\n"
      ],
      "execution_count": 0,
      "outputs": []
    },
    {
      "cell_type": "code",
      "metadata": {
        "id": "K887-muqVYrc",
        "colab_type": "code",
        "colab": {}
      },
      "source": [
        "train_data=pd.read_csv('Plane-Accident-Severity/train.csv')"
      ],
      "execution_count": 0,
      "outputs": []
    },
    {
      "cell_type": "code",
      "metadata": {
        "id": "rjZNrBZWVoPd",
        "colab_type": "code",
        "outputId": "0b8fe8b0-64b0-46b1-b1df-402903b99546",
        "colab": {
          "base_uri": "https://localhost:8080/",
          "height": 226
        }
      },
      "source": [
        "train_data.head()"
      ],
      "execution_count": 0,
      "outputs": [
        {
          "output_type": "execute_result",
          "data": {
            "text/html": [
              "<div>\n",
              "<style scoped>\n",
              "    .dataframe tbody tr th:only-of-type {\n",
              "        vertical-align: middle;\n",
              "    }\n",
              "\n",
              "    .dataframe tbody tr th {\n",
              "        vertical-align: top;\n",
              "    }\n",
              "\n",
              "    .dataframe thead th {\n",
              "        text-align: right;\n",
              "    }\n",
              "</style>\n",
              "<table border=\"1\" class=\"dataframe\">\n",
              "  <thead>\n",
              "    <tr style=\"text-align: right;\">\n",
              "      <th></th>\n",
              "      <th>Severity</th>\n",
              "      <th>Safety_Score</th>\n",
              "      <th>Days_Since_Inspection</th>\n",
              "      <th>Total_Safety_Complaints</th>\n",
              "      <th>Control_Metric</th>\n",
              "      <th>Turbulence_In_gforces</th>\n",
              "      <th>Cabin_Temperature</th>\n",
              "      <th>Accident_Type_Code</th>\n",
              "      <th>Max_Elevation</th>\n",
              "      <th>Violations</th>\n",
              "      <th>Adverse_Weather_Metric</th>\n",
              "      <th>Accident_ID</th>\n",
              "    </tr>\n",
              "  </thead>\n",
              "  <tbody>\n",
              "    <tr>\n",
              "      <th>0</th>\n",
              "      <td>Minor_Damage_And_Injuries</td>\n",
              "      <td>49.223744</td>\n",
              "      <td>14</td>\n",
              "      <td>22</td>\n",
              "      <td>71.285324</td>\n",
              "      <td>0.272118</td>\n",
              "      <td>78.04</td>\n",
              "      <td>2</td>\n",
              "      <td>31335.476824</td>\n",
              "      <td>3</td>\n",
              "      <td>0.424352</td>\n",
              "      <td>7570</td>\n",
              "    </tr>\n",
              "    <tr>\n",
              "      <th>1</th>\n",
              "      <td>Minor_Damage_And_Injuries</td>\n",
              "      <td>62.465753</td>\n",
              "      <td>10</td>\n",
              "      <td>27</td>\n",
              "      <td>72.288058</td>\n",
              "      <td>0.423939</td>\n",
              "      <td>84.54</td>\n",
              "      <td>2</td>\n",
              "      <td>26024.711057</td>\n",
              "      <td>2</td>\n",
              "      <td>0.352350</td>\n",
              "      <td>12128</td>\n",
              "    </tr>\n",
              "    <tr>\n",
              "      <th>2</th>\n",
              "      <td>Significant_Damage_And_Fatalities</td>\n",
              "      <td>63.059361</td>\n",
              "      <td>13</td>\n",
              "      <td>16</td>\n",
              "      <td>66.362808</td>\n",
              "      <td>0.322604</td>\n",
              "      <td>78.86</td>\n",
              "      <td>7</td>\n",
              "      <td>39269.053927</td>\n",
              "      <td>3</td>\n",
              "      <td>0.003364</td>\n",
              "      <td>2181</td>\n",
              "    </tr>\n",
              "    <tr>\n",
              "      <th>3</th>\n",
              "      <td>Significant_Damage_And_Serious_Injuries</td>\n",
              "      <td>48.082192</td>\n",
              "      <td>11</td>\n",
              "      <td>9</td>\n",
              "      <td>74.703737</td>\n",
              "      <td>0.337029</td>\n",
              "      <td>81.79</td>\n",
              "      <td>3</td>\n",
              "      <td>42771.499200</td>\n",
              "      <td>1</td>\n",
              "      <td>0.211728</td>\n",
              "      <td>5946</td>\n",
              "    </tr>\n",
              "    <tr>\n",
              "      <th>4</th>\n",
              "      <td>Significant_Damage_And_Fatalities</td>\n",
              "      <td>26.484018</td>\n",
              "      <td>13</td>\n",
              "      <td>25</td>\n",
              "      <td>47.948952</td>\n",
              "      <td>0.541140</td>\n",
              "      <td>77.16</td>\n",
              "      <td>3</td>\n",
              "      <td>35509.228515</td>\n",
              "      <td>2</td>\n",
              "      <td>0.176883</td>\n",
              "      <td>9054</td>\n",
              "    </tr>\n",
              "  </tbody>\n",
              "</table>\n",
              "</div>"
            ],
            "text/plain": [
              "                                  Severity  ...  Accident_ID\n",
              "0                Minor_Damage_And_Injuries  ...         7570\n",
              "1                Minor_Damage_And_Injuries  ...        12128\n",
              "2        Significant_Damage_And_Fatalities  ...         2181\n",
              "3  Significant_Damage_And_Serious_Injuries  ...         5946\n",
              "4        Significant_Damage_And_Fatalities  ...         9054\n",
              "\n",
              "[5 rows x 12 columns]"
            ]
          },
          "metadata": {
            "tags": []
          },
          "execution_count": 7
        }
      ]
    },
    {
      "cell_type": "code",
      "metadata": {
        "id": "X1njJbxPdvD8",
        "colab_type": "code",
        "colab": {}
      },
      "source": [
        "total_cases_accident_type=dict()\n",
        "i=1\n",
        "for index,row in train_data.groupby(['Accident_Type_Code']):\n",
        "  total_cases_accident_type[i]=row.shape[0]\n",
        "  i+=1\n"
      ],
      "execution_count": 0,
      "outputs": []
    },
    {
      "cell_type": "code",
      "metadata": {
        "id": "F5PLFmHQiqZq",
        "colab_type": "code",
        "outputId": "266750ac-8124-4c49-8c93-f8298ede7586",
        "colab": {
          "base_uri": "https://localhost:8080/",
          "height": 34
        }
      },
      "source": [
        "total_cases_accident_type"
      ],
      "execution_count": 36,
      "outputs": [
        {
          "output_type": "execute_result",
          "data": {
            "text/plain": [
              "{1: 1171, 2: 1791, 3: 1752, 4: 2057, 5: 738, 6: 1215, 7: 1276}"
            ]
          },
          "metadata": {
            "tags": []
          },
          "execution_count": 36
        }
      ]
    },
    {
      "cell_type": "code",
      "metadata": {
        "id": "jdJ8NJveggEc",
        "colab_type": "code",
        "colab": {}
      },
      "source": [
        "accident_type_code_mean=dict()\n",
        "for index,row in train_data.groupby(['Accident_Type_Code','Severity_Code']):\n",
        "  accident_type_code_mean[index]=row.shape[0]/total_cases_accident_type[index[0]]"
      ],
      "execution_count": 0,
      "outputs": []
    },
    {
      "cell_type": "code",
      "metadata": {
        "id": "ZOlUVhIWlikG",
        "colab_type": "code",
        "colab": {
          "base_uri": "https://localhost:8080/",
          "height": 503
        },
        "outputId": "2a40c63d-598d-438d-ddd4-ef3da9033bfb"
      },
      "source": [
        "accident_type_code_mean"
      ],
      "execution_count": 39,
      "outputs": [
        {
          "output_type": "execute_result",
          "data": {
            "text/plain": [
              "{(1, 0): 0.4449188727583262,\n",
              " (1, 1): 0.19726729291204098,\n",
              " (1, 2): 0.2228864218616567,\n",
              " (1, 3): 0.1349274124679761,\n",
              " (2, 0): 0.2573981016192071,\n",
              " (2, 1): 0.570072585147962,\n",
              " (2, 2): 0.09380234505862646,\n",
              " (2, 3): 0.07872696817420435,\n",
              " (3, 0): 0.1797945205479452,\n",
              " (3, 1): 0.17636986301369864,\n",
              " (3, 2): 0.05422374429223744,\n",
              " (3, 3): 0.5896118721461188,\n",
              " (4, 0): 0.5726786582401555,\n",
              " (4, 1): 0.13077297034516286,\n",
              " (4, 2): 0.19397180359747204,\n",
              " (4, 3): 0.10257656781720953,\n",
              " (5, 0): 0.22764227642276422,\n",
              " (5, 1): 0.4742547425474255,\n",
              " (5, 2): 0.10840108401084012,\n",
              " (5, 3): 0.1897018970189702,\n",
              " (6, 0): 0.1728395061728395,\n",
              " (6, 1): 0.1588477366255144,\n",
              " (6, 2): 0.07654320987654321,\n",
              " (6, 3): 0.5917695473251029,\n",
              " (7, 0): 0.1536050156739812,\n",
              " (7, 1): 0.1206896551724138,\n",
              " (7, 2): 0.46943573667711597,\n",
              " (7, 3): 0.256269592476489}"
            ]
          },
          "metadata": {
            "tags": []
          },
          "execution_count": 39
        }
      ]
    },
    {
      "cell_type": "code",
      "metadata": {
        "id": "bLyFlVYNgfLo",
        "colab_type": "code",
        "colab": {}
      },
      "source": [
        "accident_type_code_mean_values=list()\n",
        "for index,row in train_data.iterrows():\n",
        "  accident_type_code_mean_values.append(accident_type_code_mean[(row['Accident_Type_Code'],row['Severity_Code'])])\n"
      ],
      "execution_count": 0,
      "outputs": []
    },
    {
      "cell_type": "code",
      "metadata": {
        "id": "fo1LJDqHl4PN",
        "colab_type": "code",
        "colab": {}
      },
      "source": [
        "train_data['Accident_Type_Code_Mean']=pd.Series(accident_type_code_mean_values)"
      ],
      "execution_count": 0,
      "outputs": []
    },
    {
      "cell_type": "code",
      "metadata": {
        "id": "vZX-pK-eV0Zy",
        "colab_type": "code",
        "outputId": "d6fda4c7-c92f-491e-d42f-11a6f1dcde97",
        "colab": {
          "base_uri": "https://localhost:8080/",
          "height": 226
        }
      },
      "source": [
        "train_data.groupby(['Severity']).count()"
      ],
      "execution_count": 0,
      "outputs": [
        {
          "output_type": "execute_result",
          "data": {
            "text/html": [
              "<div>\n",
              "<style scoped>\n",
              "    .dataframe tbody tr th:only-of-type {\n",
              "        vertical-align: middle;\n",
              "    }\n",
              "\n",
              "    .dataframe tbody tr th {\n",
              "        vertical-align: top;\n",
              "    }\n",
              "\n",
              "    .dataframe thead th {\n",
              "        text-align: right;\n",
              "    }\n",
              "</style>\n",
              "<table border=\"1\" class=\"dataframe\">\n",
              "  <thead>\n",
              "    <tr style=\"text-align: right;\">\n",
              "      <th></th>\n",
              "      <th>Safety_Score</th>\n",
              "      <th>Days_Since_Inspection</th>\n",
              "      <th>Total_Safety_Complaints</th>\n",
              "      <th>Control_Metric</th>\n",
              "      <th>Turbulence_In_gforces</th>\n",
              "      <th>Cabin_Temperature</th>\n",
              "      <th>Accident_Type_Code</th>\n",
              "      <th>Max_Elevation</th>\n",
              "      <th>Violations</th>\n",
              "      <th>Adverse_Weather_Metric</th>\n",
              "      <th>Accident_ID</th>\n",
              "    </tr>\n",
              "    <tr>\n",
              "      <th>Severity</th>\n",
              "      <th></th>\n",
              "      <th></th>\n",
              "      <th></th>\n",
              "      <th></th>\n",
              "      <th></th>\n",
              "      <th></th>\n",
              "      <th></th>\n",
              "      <th></th>\n",
              "      <th></th>\n",
              "      <th></th>\n",
              "      <th></th>\n",
              "    </tr>\n",
              "  </thead>\n",
              "  <tbody>\n",
              "    <tr>\n",
              "      <th>Highly_Fatal_And_Damaging</th>\n",
              "      <td>3049</td>\n",
              "      <td>3049</td>\n",
              "      <td>3049</td>\n",
              "      <td>3049</td>\n",
              "      <td>3049</td>\n",
              "      <td>3049</td>\n",
              "      <td>3049</td>\n",
              "      <td>3049</td>\n",
              "      <td>3049</td>\n",
              "      <td>3049</td>\n",
              "      <td>3049</td>\n",
              "    </tr>\n",
              "    <tr>\n",
              "      <th>Minor_Damage_And_Injuries</th>\n",
              "      <td>2527</td>\n",
              "      <td>2527</td>\n",
              "      <td>2527</td>\n",
              "      <td>2527</td>\n",
              "      <td>2527</td>\n",
              "      <td>2527</td>\n",
              "      <td>2527</td>\n",
              "      <td>2527</td>\n",
              "      <td>2527</td>\n",
              "      <td>2527</td>\n",
              "      <td>2527</td>\n",
              "    </tr>\n",
              "    <tr>\n",
              "      <th>Significant_Damage_And_Fatalities</th>\n",
              "      <td>1695</td>\n",
              "      <td>1695</td>\n",
              "      <td>1695</td>\n",
              "      <td>1695</td>\n",
              "      <td>1695</td>\n",
              "      <td>1695</td>\n",
              "      <td>1695</td>\n",
              "      <td>1695</td>\n",
              "      <td>1695</td>\n",
              "      <td>1695</td>\n",
              "      <td>1695</td>\n",
              "    </tr>\n",
              "    <tr>\n",
              "      <th>Significant_Damage_And_Serious_Injuries</th>\n",
              "      <td>2729</td>\n",
              "      <td>2729</td>\n",
              "      <td>2729</td>\n",
              "      <td>2729</td>\n",
              "      <td>2729</td>\n",
              "      <td>2729</td>\n",
              "      <td>2729</td>\n",
              "      <td>2729</td>\n",
              "      <td>2729</td>\n",
              "      <td>2729</td>\n",
              "      <td>2729</td>\n",
              "    </tr>\n",
              "  </tbody>\n",
              "</table>\n",
              "</div>"
            ],
            "text/plain": [
              "                                         Safety_Score  ...  Accident_ID\n",
              "Severity                                               ...             \n",
              "Highly_Fatal_And_Damaging                        3049  ...         3049\n",
              "Minor_Damage_And_Injuries                        2527  ...         2527\n",
              "Significant_Damage_And_Fatalities                1695  ...         1695\n",
              "Significant_Damage_And_Serious_Injuries          2729  ...         2729\n",
              "\n",
              "[4 rows x 11 columns]"
            ]
          },
          "metadata": {
            "tags": []
          },
          "execution_count": 4
        }
      ]
    },
    {
      "cell_type": "code",
      "metadata": {
        "id": "5TpI54Men_4j",
        "colab_type": "code",
        "colab": {}
      },
      "source": [
        "train_data['Severity']=pd.Categorical(train_data['Severity'])\n",
        "train_data['Severity_Code']=train_data['Severity'].cat.codes"
      ],
      "execution_count": 0,
      "outputs": []
    },
    {
      "cell_type": "code",
      "metadata": {
        "id": "qmrfiQobsOuz",
        "colab_type": "code",
        "colab": {}
      },
      "source": [
        "data_corr=train_data.corr()"
      ],
      "execution_count": 0,
      "outputs": []
    },
    {
      "cell_type": "code",
      "metadata": {
        "id": "g18xMYDysSsq",
        "colab_type": "code",
        "outputId": "35d7037d-b00b-4648-c1a0-ef9b32248247",
        "colab": {
          "base_uri": "https://localhost:8080/",
          "height": 412
        }
      },
      "source": [
        "sns.heatmap(data_corr)"
      ],
      "execution_count": 43,
      "outputs": [
        {
          "output_type": "execute_result",
          "data": {
            "text/plain": [
              "<matplotlib.axes._subplots.AxesSubplot at 0x7f2282b36f28>"
            ]
          },
          "metadata": {
            "tags": []
          },
          "execution_count": 43
        },
        {
          "output_type": "display_data",
          "data": {
            "image/png": "[encoded data removed]",
            "text/plain": [
              "<Figure size 432x288 with 2 Axes>"
            ]
          },
          "metadata": {
            "tags": []
          }
        }
      ]
    },
    {
      "cell_type": "code",
      "metadata": {
        "id": "SYgbh1ISmDSb",
        "colab_type": "code",
        "colab": {
          "base_uri": "https://localhost:8080/",
          "height": 226
        },
        "outputId": "a359b898-4d41-442b-d676-fd01c7b3ea07"
      },
      "source": [
        "train_data.head()"
      ],
      "execution_count": 44,
      "outputs": [
        {
          "output_type": "execute_result",
          "data": {
            "text/html": [
              "<div>\n",
              "<style scoped>\n",
              "    .dataframe tbody tr th:only-of-type {\n",
              "        vertical-align: middle;\n",
              "    }\n",
              "\n",
              "    .dataframe tbody tr th {\n",
              "        vertical-align: top;\n",
              "    }\n",
              "\n",
              "    .dataframe thead th {\n",
              "        text-align: right;\n",
              "    }\n",
              "</style>\n",
              "<table border=\"1\" class=\"dataframe\">\n",
              "  <thead>\n",
              "    <tr style=\"text-align: right;\">\n",
              "      <th></th>\n",
              "      <th>Severity</th>\n",
              "      <th>Safety_Score</th>\n",
              "      <th>Days_Since_Inspection</th>\n",
              "      <th>Total_Safety_Complaints</th>\n",
              "      <th>Control_Metric</th>\n",
              "      <th>Turbulence_In_gforces</th>\n",
              "      <th>Cabin_Temperature</th>\n",
              "      <th>Accident_Type_Code</th>\n",
              "      <th>Max_Elevation</th>\n",
              "      <th>Violations</th>\n",
              "      <th>Adverse_Weather_Metric</th>\n",
              "      <th>Accident_ID</th>\n",
              "      <th>Severity_Code</th>\n",
              "      <th>Accident_Type_Code_Mean</th>\n",
              "    </tr>\n",
              "  </thead>\n",
              "  <tbody>\n",
              "    <tr>\n",
              "      <th>0</th>\n",
              "      <td>Minor_Damage_And_Injuries</td>\n",
              "      <td>49.223744</td>\n",
              "      <td>14</td>\n",
              "      <td>22</td>\n",
              "      <td>71.285324</td>\n",
              "      <td>0.272118</td>\n",
              "      <td>78.04</td>\n",
              "      <td>2</td>\n",
              "      <td>31335.476824</td>\n",
              "      <td>3</td>\n",
              "      <td>0.424352</td>\n",
              "      <td>7570</td>\n",
              "      <td>1</td>\n",
              "      <td>0.570073</td>\n",
              "    </tr>\n",
              "    <tr>\n",
              "      <th>1</th>\n",
              "      <td>Minor_Damage_And_Injuries</td>\n",
              "      <td>62.465753</td>\n",
              "      <td>10</td>\n",
              "      <td>27</td>\n",
              "      <td>72.288058</td>\n",
              "      <td>0.423939</td>\n",
              "      <td>84.54</td>\n",
              "      <td>2</td>\n",
              "      <td>26024.711057</td>\n",
              "      <td>2</td>\n",
              "      <td>0.352350</td>\n",
              "      <td>12128</td>\n",
              "      <td>1</td>\n",
              "      <td>0.570073</td>\n",
              "    </tr>\n",
              "    <tr>\n",
              "      <th>2</th>\n",
              "      <td>Significant_Damage_And_Fatalities</td>\n",
              "      <td>63.059361</td>\n",
              "      <td>13</td>\n",
              "      <td>16</td>\n",
              "      <td>66.362808</td>\n",
              "      <td>0.322604</td>\n",
              "      <td>78.86</td>\n",
              "      <td>7</td>\n",
              "      <td>39269.053927</td>\n",
              "      <td>3</td>\n",
              "      <td>0.003364</td>\n",
              "      <td>2181</td>\n",
              "      <td>2</td>\n",
              "      <td>0.469436</td>\n",
              "    </tr>\n",
              "    <tr>\n",
              "      <th>3</th>\n",
              "      <td>Significant_Damage_And_Serious_Injuries</td>\n",
              "      <td>48.082192</td>\n",
              "      <td>11</td>\n",
              "      <td>9</td>\n",
              "      <td>74.703737</td>\n",
              "      <td>0.337029</td>\n",
              "      <td>81.79</td>\n",
              "      <td>3</td>\n",
              "      <td>42771.499200</td>\n",
              "      <td>1</td>\n",
              "      <td>0.211728</td>\n",
              "      <td>5946</td>\n",
              "      <td>3</td>\n",
              "      <td>0.589612</td>\n",
              "    </tr>\n",
              "    <tr>\n",
              "      <th>4</th>\n",
              "      <td>Significant_Damage_And_Fatalities</td>\n",
              "      <td>26.484018</td>\n",
              "      <td>13</td>\n",
              "      <td>25</td>\n",
              "      <td>47.948952</td>\n",
              "      <td>0.541140</td>\n",
              "      <td>77.16</td>\n",
              "      <td>3</td>\n",
              "      <td>35509.228515</td>\n",
              "      <td>2</td>\n",
              "      <td>0.176883</td>\n",
              "      <td>9054</td>\n",
              "      <td>2</td>\n",
              "      <td>0.054224</td>\n",
              "    </tr>\n",
              "  </tbody>\n",
              "</table>\n",
              "</div>"
            ],
            "text/plain": [
              "                                  Severity  ...  Accident_Type_Code_Mean\n",
              "0                Minor_Damage_And_Injuries  ...                 0.570073\n",
              "1                Minor_Damage_And_Injuries  ...                 0.570073\n",
              "2        Significant_Damage_And_Fatalities  ...                 0.469436\n",
              "3  Significant_Damage_And_Serious_Injuries  ...                 0.589612\n",
              "4        Significant_Damage_And_Fatalities  ...                 0.054224\n",
              "\n",
              "[5 rows x 14 columns]"
            ]
          },
          "metadata": {
            "tags": []
          },
          "execution_count": 44
        }
      ]
    },
    {
      "cell_type": "code",
      "metadata": {
        "id": "CgveADrGoutf",
        "colab_type": "code",
        "outputId": "e33cd236-cd90-4f1f-94da-e5633c531882",
        "colab": {
          "base_uri": "https://localhost:8080/",
          "height": 226
        }
      },
      "source": [
        "X=train_data.iloc[:,[1,2,3,4,5,6,7,8,9,10,13]]\n",
        "X.head()"
      ],
      "execution_count": 46,
      "outputs": [
        {
          "output_type": "execute_result",
          "data": {
            "text/html": [
              "<div>\n",
              "<style scoped>\n",
              "    .dataframe tbody tr th:only-of-type {\n",
              "        vertical-align: middle;\n",
              "    }\n",
              "\n",
              "    .dataframe tbody tr th {\n",
              "        vertical-align: top;\n",
              "    }\n",
              "\n",
              "    .dataframe thead th {\n",
              "        text-align: right;\n",
              "    }\n",
              "</style>\n",
              "<table border=\"1\" class=\"dataframe\">\n",
              "  <thead>\n",
              "    <tr style=\"text-align: right;\">\n",
              "      <th></th>\n",
              "      <th>Safety_Score</th>\n",
              "      <th>Days_Since_Inspection</th>\n",
              "      <th>Total_Safety_Complaints</th>\n",
              "      <th>Control_Metric</th>\n",
              "      <th>Turbulence_In_gforces</th>\n",
              "      <th>Cabin_Temperature</th>\n",
              "      <th>Accident_Type_Code</th>\n",
              "      <th>Max_Elevation</th>\n",
              "      <th>Violations</th>\n",
              "      <th>Adverse_Weather_Metric</th>\n",
              "      <th>Accident_Type_Code_Mean</th>\n",
              "    </tr>\n",
              "  </thead>\n",
              "  <tbody>\n",
              "    <tr>\n",
              "      <th>0</th>\n",
              "      <td>49.223744</td>\n",
              "      <td>14</td>\n",
              "      <td>22</td>\n",
              "      <td>71.285324</td>\n",
              "      <td>0.272118</td>\n",
              "      <td>78.04</td>\n",
              "      <td>2</td>\n",
              "      <td>31335.476824</td>\n",
              "      <td>3</td>\n",
              "      <td>0.424352</td>\n",
              "      <td>0.570073</td>\n",
              "    </tr>\n",
              "    <tr>\n",
              "      <th>1</th>\n",
              "      <td>62.465753</td>\n",
              "      <td>10</td>\n",
              "      <td>27</td>\n",
              "      <td>72.288058</td>\n",
              "      <td>0.423939</td>\n",
              "      <td>84.54</td>\n",
              "      <td>2</td>\n",
              "      <td>26024.711057</td>\n",
              "      <td>2</td>\n",
              "      <td>0.352350</td>\n",
              "      <td>0.570073</td>\n",
              "    </tr>\n",
              "    <tr>\n",
              "      <th>2</th>\n",
              "      <td>63.059361</td>\n",
              "      <td>13</td>\n",
              "      <td>16</td>\n",
              "      <td>66.362808</td>\n",
              "      <td>0.322604</td>\n",
              "      <td>78.86</td>\n",
              "      <td>7</td>\n",
              "      <td>39269.053927</td>\n",
              "      <td>3</td>\n",
              "      <td>0.003364</td>\n",
              "      <td>0.469436</td>\n",
              "    </tr>\n",
              "    <tr>\n",
              "      <th>3</th>\n",
              "      <td>48.082192</td>\n",
              "      <td>11</td>\n",
              "      <td>9</td>\n",
              "      <td>74.703737</td>\n",
              "      <td>0.337029</td>\n",
              "      <td>81.79</td>\n",
              "      <td>3</td>\n",
              "      <td>42771.499200</td>\n",
              "      <td>1</td>\n",
              "      <td>0.211728</td>\n",
              "      <td>0.589612</td>\n",
              "    </tr>\n",
              "    <tr>\n",
              "      <th>4</th>\n",
              "      <td>26.484018</td>\n",
              "      <td>13</td>\n",
              "      <td>25</td>\n",
              "      <td>47.948952</td>\n",
              "      <td>0.541140</td>\n",
              "      <td>77.16</td>\n",
              "      <td>3</td>\n",
              "      <td>35509.228515</td>\n",
              "      <td>2</td>\n",
              "      <td>0.176883</td>\n",
              "      <td>0.054224</td>\n",
              "    </tr>\n",
              "  </tbody>\n",
              "</table>\n",
              "</div>"
            ],
            "text/plain": [
              "   Safety_Score  ...  Accident_Type_Code_Mean\n",
              "0     49.223744  ...                 0.570073\n",
              "1     62.465753  ...                 0.570073\n",
              "2     63.059361  ...                 0.469436\n",
              "3     48.082192  ...                 0.589612\n",
              "4     26.484018  ...                 0.054224\n",
              "\n",
              "[5 rows x 11 columns]"
            ]
          },
          "metadata": {
            "tags": []
          },
          "execution_count": 46
        }
      ]
    },
    {
      "cell_type": "code",
      "metadata": {
        "id": "p0Y2HyrAp2al",
        "colab_type": "code",
        "colab": {}
      },
      "source": [
        "Y=train_data.iloc[:,12]"
      ],
      "execution_count": 0,
      "outputs": []
    },
    {
      "cell_type": "code",
      "metadata": {
        "id": "qNF_BK28YadJ",
        "colab_type": "code",
        "colab": {}
      },
      "source": [
        "kf=KFold(n_splits=5)"
      ],
      "execution_count": 0,
      "outputs": []
    },
    {
      "cell_type": "code",
      "metadata": {
        "id": "OTZvBNsGY8UA",
        "colab_type": "code",
        "colab": {}
      },
      "source": [
        "param = {\n",
        "    'eta': 0.2, \n",
        "    'max_depth': 12,  \n",
        "    'objective': 'multi:softprob',  \n",
        "    'gamma': 0.01,\n",
        "    'num_class': 4} \n",
        "\n",
        "steps = 1000  # The number of training iterations"
      ],
      "execution_count": 0,
      "outputs": []
    },
    {
      "cell_type": "code",
      "metadata": {
        "id": "GG9Eby3MYj58",
        "colab_type": "code",
        "outputId": "405cec27-c158-4674-c69b-d75ee83ff408",
        "colab": {
          "base_uri": "https://localhost:8080/",
          "height": 746
        }
      },
      "source": [
        "for x,y in kf.split(X):\n",
        "  print(x,y)\n",
        "  X_train,X_test = X.iloc[x,:],X.iloc[y,:]\n",
        "  Y_train,Y_test = Y[x],Y[y]\n",
        "  D_train = xbg.DMatrix(X_train, label=Y_train)\n",
        "  D_test = xbg.DMatrix(X_test, label=Y_test)\n",
        "  model = xbg.train(param, D_train, steps)\n",
        "  preds = model.predict(D_test)\n",
        "  best_preds = np.asarray([np.argmax(line) for line in preds])\n",
        "\n",
        "\n",
        "  print(\"Precision = {}\".format(precision_score(Y_test, best_preds, average='macro')))\n",
        "  print(\"Recall = {}\".format(recall_score(Y_test, best_preds, average='macro')))\n",
        "  print(\"Accuracy = {}\".format(accuracy_score(Y_test, best_preds)))\n",
        "  print(\"F1-score = {}\".format(f1_score(Y_test,best_preds,average='weighted')))\n",
        "  print(\"********************************************************************\")\n",
        "\n",
        "  '''model1=MLPClassifier(hidden_layer_sizes=(100,100,100),max_iter=1000,alpha=0.01,activation='relu')\n",
        "  model1.fit(X_train,Y_train)\n",
        "  best_preds_nn=model1.predict(X_test)\n",
        "  print(\"F1-score = {}\".format(f1_score(Y_test,best_preds_nn,average='weighted')))'''\n",
        "\n",
        "  '''model2=SVC(C=1,kernel='poly', degree=4,gamma='auto')\n",
        "  model2.fit(X_train,Y_train)\n",
        "  best_preds_svm = model2.predict(X_test)\n",
        "  print(best_preds_svm.tolist().count(0))\n",
        "  print(best_preds_svm.tolist().count(1))\n",
        "  print(best_preds_svm.tolist().count(2))\n",
        "  print(best_preds_svm.tolist().count(3))\n",
        "  print(\"F1-score = {}\".format(f1_score(Y_test,best_preds_svm,average='weighted')))'''\n",
        "\n",
        "  model3=CatBoostClassifier(iterations=1000,learning_rate=0.01,depth=12,loss_function='MultiClass',verbose=False)\n",
        "  model3.fit(X_train,Y_train)\n",
        "  best_preds_cat=model3.predict(X_test)\n",
        "  preds_cat=model3.predict_proba(X_test)\n",
        "  print(\"F1-score = {}\".format(f1_score(Y_test,best_preds_cat,average='weighted')))\n",
        "\n",
        "\n",
        "  average_preds=(np.array(preds)+np.array(preds_cat))/2.0\n",
        "  best_preds_average = np.asarray([np.argmax(line) for line in average_preds])\n",
        "  print(\"F1-score = {}\".format(f1_score(Y_test,best_preds_average,average='weighted')))\n",
        "\n",
        "  \n"
      ],
      "execution_count": 50,
      "outputs": [
        {
          "output_type": "stream",
          "text": [
            "[2000 2001 2002 ... 9997 9998 9999] [   0    1    2 ... 1997 1998 1999]\n"
          ],
          "name": "stdout"
        },
        {
          "output_type": "stream",
          "text": [
            "/usr/local/lib/python3.6/dist-packages/xgboost/core.py:587: FutureWarning: Series.base is deprecated and will be removed in a future version\n",
            "  if getattr(data, 'base', None) is not None and \\\n"
          ],
          "name": "stderr"
        },
        {
          "output_type": "stream",
          "text": [
            "Precision = 1.0\n",
            "Recall = 1.0\n",
            "Accuracy = 1.0\n",
            "F1-score = 1.0\n",
            "********************************************************************\n",
            "F1-score = 1.0\n",
            "F1-score = 1.0\n",
            "[   0    1    2 ... 9997 9998 9999] [2000 2001 2002 ... 3997 3998 3999]\n",
            "Precision = 1.0\n",
            "Recall = 1.0\n",
            "Accuracy = 1.0\n",
            "F1-score = 1.0\n",
            "********************************************************************\n",
            "F1-score = 1.0\n",
            "F1-score = 1.0\n",
            "[   0    1    2 ... 9997 9998 9999] [4000 4001 4002 ... 5997 5998 5999]\n",
            "Precision = 1.0\n",
            "Recall = 1.0\n",
            "Accuracy = 1.0\n",
            "F1-score = 1.0\n",
            "********************************************************************\n",
            "F1-score = 1.0\n",
            "F1-score = 1.0\n",
            "[   0    1    2 ... 9997 9998 9999] [6000 6001 6002 ... 7997 7998 7999]\n",
            "Precision = 1.0\n",
            "Recall = 1.0\n",
            "Accuracy = 1.0\n",
            "F1-score = 1.0\n",
            "********************************************************************\n",
            "F1-score = 1.0\n",
            "F1-score = 1.0\n",
            "[   0    1    2 ... 7997 7998 7999] [8000 8001 8002 ... 9997 9998 9999]\n",
            "Precision = 1.0\n",
            "Recall = 1.0\n",
            "Accuracy = 1.0\n",
            "F1-score = 1.0\n",
            "********************************************************************\n",
            "F1-score = 1.0\n",
            "F1-score = 1.0\n"
          ],
          "name": "stdout"
        }
      ]
    },
    {
      "cell_type": "code",
      "metadata": {
        "id": "q3bty1Sor_Ct",
        "colab_type": "code",
        "colab": {}
      },
      "source": [
        "test_data=pd.read_csv(\"Plane-Accident-Severity/test.csv\")"
      ],
      "execution_count": 0,
      "outputs": []
    },
    {
      "cell_type": "code",
      "metadata": {
        "id": "PlgzoAd9sGM1",
        "colab_type": "code",
        "outputId": "fda706d1-cba4-4323-cea2-3f7133971fb5",
        "colab": {
          "base_uri": "https://localhost:8080/",
          "height": 34
        }
      },
      "source": [
        "test_data.shape"
      ],
      "execution_count": 0,
      "outputs": [
        {
          "output_type": "execute_result",
          "data": {
            "text/plain": [
              "(2500, 12)"
            ]
          },
          "metadata": {
            "tags": []
          },
          "execution_count": 90
        }
      ]
    },
    {
      "cell_type": "code",
      "metadata": {
        "id": "Msl1OCKZsMap",
        "colab_type": "code",
        "colab": {}
      },
      "source": [
        "test_X=test_data.iloc[:,0:10]"
      ],
      "execution_count": 0,
      "outputs": []
    },
    {
      "cell_type": "code",
      "metadata": {
        "id": "5bQvrovTsTc6",
        "colab_type": "code",
        "outputId": "4f02bf5d-b435-4e70-8344-d20ad2a1fb69",
        "colab": {
          "base_uri": "https://localhost:8080/",
          "height": 204
        }
      },
      "source": [
        "test_X.head()"
      ],
      "execution_count": 0,
      "outputs": [
        {
          "output_type": "execute_result",
          "data": {
            "text/html": [
              "<div>\n",
              "<style scoped>\n",
              "    .dataframe tbody tr th:only-of-type {\n",
              "        vertical-align: middle;\n",
              "    }\n",
              "\n",
              "    .dataframe tbody tr th {\n",
              "        vertical-align: top;\n",
              "    }\n",
              "\n",
              "    .dataframe thead th {\n",
              "        text-align: right;\n",
              "    }\n",
              "</style>\n",
              "<table border=\"1\" class=\"dataframe\">\n",
              "  <thead>\n",
              "    <tr style=\"text-align: right;\">\n",
              "      <th></th>\n",
              "      <th>Safety_Score</th>\n",
              "      <th>Days_Since_Inspection</th>\n",
              "      <th>Total_Safety_Complaints</th>\n",
              "      <th>Control_Metric</th>\n",
              "      <th>Turbulence_In_gforces</th>\n",
              "      <th>Cabin_Temperature</th>\n",
              "      <th>Accident_Type_Code</th>\n",
              "      <th>Max_Elevation</th>\n",
              "      <th>Violations</th>\n",
              "      <th>Adverse_Weather_Metric</th>\n",
              "    </tr>\n",
              "  </thead>\n",
              "  <tbody>\n",
              "    <tr>\n",
              "      <th>0</th>\n",
              "      <td>19.497717</td>\n",
              "      <td>16</td>\n",
              "      <td>6</td>\n",
              "      <td>72.151322</td>\n",
              "      <td>0.388959</td>\n",
              "      <td>78.32</td>\n",
              "      <td>4</td>\n",
              "      <td>37949.724386</td>\n",
              "      <td>2</td>\n",
              "      <td>0.069692</td>\n",
              "    </tr>\n",
              "    <tr>\n",
              "      <th>1</th>\n",
              "      <td>58.173516</td>\n",
              "      <td>15</td>\n",
              "      <td>3</td>\n",
              "      <td>64.585232</td>\n",
              "      <td>0.250841</td>\n",
              "      <td>78.60</td>\n",
              "      <td>7</td>\n",
              "      <td>30194.805567</td>\n",
              "      <td>2</td>\n",
              "      <td>0.002777</td>\n",
              "    </tr>\n",
              "    <tr>\n",
              "      <th>2</th>\n",
              "      <td>33.287671</td>\n",
              "      <td>15</td>\n",
              "      <td>3</td>\n",
              "      <td>64.721969</td>\n",
              "      <td>0.336669</td>\n",
              "      <td>86.96</td>\n",
              "      <td>6</td>\n",
              "      <td>17572.925484</td>\n",
              "      <td>1</td>\n",
              "      <td>0.004316</td>\n",
              "    </tr>\n",
              "    <tr>\n",
              "      <th>3</th>\n",
              "      <td>3.287671</td>\n",
              "      <td>21</td>\n",
              "      <td>5</td>\n",
              "      <td>66.362808</td>\n",
              "      <td>0.421775</td>\n",
              "      <td>80.86</td>\n",
              "      <td>3</td>\n",
              "      <td>40209.186341</td>\n",
              "      <td>2</td>\n",
              "      <td>0.199990</td>\n",
              "    </tr>\n",
              "    <tr>\n",
              "      <th>4</th>\n",
              "      <td>10.867580</td>\n",
              "      <td>18</td>\n",
              "      <td>2</td>\n",
              "      <td>56.107566</td>\n",
              "      <td>0.313228</td>\n",
              "      <td>79.22</td>\n",
              "      <td>2</td>\n",
              "      <td>35495.525408</td>\n",
              "      <td>2</td>\n",
              "      <td>0.483696</td>\n",
              "    </tr>\n",
              "  </tbody>\n",
              "</table>\n",
              "</div>"
            ],
            "text/plain": [
              "   Safety_Score  Days_Since_Inspection  ...  Violations  Adverse_Weather_Metric\n",
              "0     19.497717                     16  ...           2                0.069692\n",
              "1     58.173516                     15  ...           2                0.002777\n",
              "2     33.287671                     15  ...           1                0.004316\n",
              "3      3.287671                     21  ...           2                0.199990\n",
              "4     10.867580                     18  ...           2                0.483696\n",
              "\n",
              "[5 rows x 10 columns]"
            ]
          },
          "metadata": {
            "tags": []
          },
          "execution_count": 82
        }
      ]
    },
    {
      "cell_type": "code",
      "metadata": {
        "id": "3ode4-V5ySne",
        "colab_type": "code",
        "outputId": "e2497d40-a706-4c23-8d6b-3dbea70f0836",
        "colab": {
          "base_uri": "https://localhost:8080/",
          "height": 34
        }
      },
      "source": [
        "test_X.shape"
      ],
      "execution_count": 0,
      "outputs": [
        {
          "output_type": "execute_result",
          "data": {
            "text/plain": [
              "(2500, 10)"
            ]
          },
          "metadata": {
            "tags": []
          },
          "execution_count": 89
        }
      ]
    },
    {
      "cell_type": "code",
      "metadata": {
        "id": "n-2YLbfxuYmr",
        "colab_type": "code",
        "colab": {}
      },
      "source": [
        "D_test_test=xbg.DMatrix(test_X)\n",
        "test_preds = model.predict(D_test_test)\n",
        "best_test_preds = np.asarray([np.argmax(line) for line in test_preds])"
      ],
      "execution_count": 0,
      "outputs": []
    },
    {
      "cell_type": "code",
      "metadata": {
        "id": "Mc5sdJdiyaX-",
        "colab_type": "code",
        "outputId": "58728169-215a-4fae-813a-715f66a4f52c",
        "colab": {
          "base_uri": "https://localhost:8080/",
          "height": 34
        }
      },
      "source": [
        "test_preds.shape"
      ],
      "execution_count": 0,
      "outputs": [
        {
          "output_type": "execute_result",
          "data": {
            "text/plain": [
              "(2500, 4)"
            ]
          },
          "metadata": {
            "tags": []
          },
          "execution_count": 95
        }
      ]
    },
    {
      "cell_type": "code",
      "metadata": {
        "id": "zPkoHPLuvCkq",
        "colab_type": "code",
        "colab": {}
      },
      "source": [
        "severity_dict={1:'Minor_Damage_And_Injuries',2:'Significant_Damage_And_Fatalities',3:'Significant_Damage_And_Serious_Injuries',0:'Highly_Fatal_And_Damaging'}"
      ],
      "execution_count": 0,
      "outputs": []
    },
    {
      "cell_type": "code",
      "metadata": {
        "id": "bIPXmns4vXjZ",
        "colab_type": "code",
        "colab": {}
      },
      "source": [
        "severity_list=list()\n",
        "for x in best_test_preds:\n",
        "  severity_list.append(severity_dict[x])"
      ],
      "execution_count": 0,
      "outputs": []
    },
    {
      "cell_type": "code",
      "metadata": {
        "id": "FRuaCw3nvqU2",
        "colab_type": "code",
        "colab": {}
      },
      "source": [
        "test_data['Severity']=pd.Series(severity_list)"
      ],
      "execution_count": 0,
      "outputs": []
    },
    {
      "cell_type": "code",
      "metadata": {
        "id": "5nZ9SPxZv0Wl",
        "colab_type": "code",
        "colab": {}
      },
      "source": [
        "test_data[['Accident_ID','Severity']].to_csv(\"Plane-Accident-Severity/submission5.csv\",index=False)"
      ],
      "execution_count": 0,
      "outputs": []
    }
  ]
}