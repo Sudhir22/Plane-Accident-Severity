{
  "nbformat": 4,
  "nbformat_minor": 0,
  "metadata": {
    "colab": {
      "name": "Model_XGBoost.ipynb",
      "provenance": [],
      "authorship_tag": "ABX9TyMrBVxDrgM+NZunoLQE8D8x",
      "include_colab_link": true
    },
    "kernelspec": {
      "name": "python3",
      "display_name": "Python 3"
    }
  },
  "cells": [
    {
      "cell_type": "markdown",
      "metadata": {
        "id": "view-in-github",
        "colab_type": "text"
      },
      "source": [
        "<a href=\"https://colab.research.google.com/github/Sudhir22/Plane-Accident-Severity/blob/master/Model_XGBoost.ipynb\" target=\"_parent\"><img src=\"https://colab.research.google.com/assets/colab-badge.svg\" alt=\"Open In Colab\"/></a>"
      ]
    },
    {
      "cell_type": "code",
      "metadata": {
        "id": "jc_Mrtk-TKsZ",
        "colab_type": "code",
        "colab": {
          "base_uri": "https://localhost:8080/",
          "height": 119
        },
        "outputId": "a9b8ff10-51ca-4e94-eca7-3c720446f75d"
      },
      "source": [
        "!pip install -q xlrd\n",
        "!git clone https://github.com/Sudhir22/Plane-Accident-Severity.git"
      ],
      "execution_count": 1,
      "outputs": [
        {
          "output_type": "stream",
          "text": [
            "Cloning into 'Plane-Accident-Severity'...\n",
            "remote: Enumerating objects: 8, done.\u001b[K\n",
            "remote: Counting objects:  12% (1/8)\u001b[K\rremote: Counting objects:  25% (2/8)\u001b[K\rremote: Counting objects:  37% (3/8)\u001b[K\rremote: Counting objects:  50% (4/8)\u001b[K\rremote: Counting objects:  62% (5/8)\u001b[K\rremote: Counting objects:  75% (6/8)\u001b[K\rremote: Counting objects:  87% (7/8)\u001b[K\rremote: Counting objects: 100% (8/8)\u001b[K\rremote: Counting objects: 100% (8/8), done.\u001b[K\n",
            "remote: Compressing objects:  16% (1/6)\u001b[K\rremote: Compressing objects:  33% (2/6)\u001b[K\rremote: Compressing objects:  50% (3/6)\u001b[K\rremote: Compressing objects:  66% (4/6)\u001b[K\rremote: Compressing objects:  83% (5/6)\u001b[K\rremote: Compressing objects: 100% (6/6)\u001b[K\rremote: Compressing objects: 100% (6/6), done.\u001b[K\n",
            "Unpacking objects:  12% (1/8)   \rUnpacking objects:  25% (2/8)   \rUnpacking objects:  37% (3/8)   \rUnpacking objects:  50% (4/8)   \rUnpacking objects:  62% (5/8)   \rUnpacking objects:  75% (6/8)   \rremote: Total 8 (delta 0), reused 0 (delta 0), pack-reused 0\u001b[K\n",
            "Unpacking objects:  87% (7/8)   \rUnpacking objects: 100% (8/8)   \rUnpacking objects: 100% (8/8), done.\n"
          ],
          "name": "stdout"
        }
      ]
    },
    {
      "cell_type": "code",
      "metadata": {
        "id": "Zfd--glZTy0o",
        "colab_type": "code",
        "colab": {}
      },
      "source": [
        "import pandas as pd"
      ],
      "execution_count": 0,
      "outputs": []
    },
    {
      "cell_type": "code",
      "metadata": {
        "id": "K887-muqVYrc",
        "colab_type": "code",
        "colab": {}
      },
      "source": [
        "train_data=pd.read_csv('Plane-Accident-Severity/train.csv')"
      ],
      "execution_count": 0,
      "outputs": []
    },
    {
      "cell_type": "code",
      "metadata": {
        "id": "rjZNrBZWVoPd",
        "colab_type": "code",
        "colab": {
          "base_uri": "https://localhost:8080/",
          "height": 224
        },
        "outputId": "1ee5221e-6603-4fa5-ccd3-694fd817a964"
      },
      "source": [
        "train_data.head()"
      ],
      "execution_count": 4,
      "outputs": [
        {
          "output_type": "execute_result",
          "data": {
            "text/html": [
              "<div>\n",
              "<style scoped>\n",
              "    .dataframe tbody tr th:only-of-type {\n",
              "        vertical-align: middle;\n",
              "    }\n",
              "\n",
              "    .dataframe tbody tr th {\n",
              "        vertical-align: top;\n",
              "    }\n",
              "\n",
              "    .dataframe thead th {\n",
              "        text-align: right;\n",
              "    }\n",
              "</style>\n",
              "<table border=\"1\" class=\"dataframe\">\n",
              "  <thead>\n",
              "    <tr style=\"text-align: right;\">\n",
              "      <th></th>\n",
              "      <th>Severity</th>\n",
              "      <th>Safety_Score</th>\n",
              "      <th>Days_Since_Inspection</th>\n",
              "      <th>Total_Safety_Complaints</th>\n",
              "      <th>Control_Metric</th>\n",
              "      <th>Turbulence_In_gforces</th>\n",
              "      <th>Cabin_Temperature</th>\n",
              "      <th>Accident_Type_Code</th>\n",
              "      <th>Max_Elevation</th>\n",
              "      <th>Violations</th>\n",
              "      <th>Adverse_Weather_Metric</th>\n",
              "      <th>Accident_ID</th>\n",
              "    </tr>\n",
              "  </thead>\n",
              "  <tbody>\n",
              "    <tr>\n",
              "      <th>0</th>\n",
              "      <td>Minor_Damage_And_Injuries</td>\n",
              "      <td>49.223744</td>\n",
              "      <td>14</td>\n",
              "      <td>22</td>\n",
              "      <td>71.285324</td>\n",
              "      <td>0.272118</td>\n",
              "      <td>78.04</td>\n",
              "      <td>2</td>\n",
              "      <td>31335.476824</td>\n",
              "      <td>3</td>\n",
              "      <td>0.424352</td>\n",
              "      <td>7570</td>\n",
              "    </tr>\n",
              "    <tr>\n",
              "      <th>1</th>\n",
              "      <td>Minor_Damage_And_Injuries</td>\n",
              "      <td>62.465753</td>\n",
              "      <td>10</td>\n",
              "      <td>27</td>\n",
              "      <td>72.288058</td>\n",
              "      <td>0.423939</td>\n",
              "      <td>84.54</td>\n",
              "      <td>2</td>\n",
              "      <td>26024.711057</td>\n",
              "      <td>2</td>\n",
              "      <td>0.352350</td>\n",
              "      <td>12128</td>\n",
              "    </tr>\n",
              "    <tr>\n",
              "      <th>2</th>\n",
              "      <td>Significant_Damage_And_Fatalities</td>\n",
              "      <td>63.059361</td>\n",
              "      <td>13</td>\n",
              "      <td>16</td>\n",
              "      <td>66.362808</td>\n",
              "      <td>0.322604</td>\n",
              "      <td>78.86</td>\n",
              "      <td>7</td>\n",
              "      <td>39269.053927</td>\n",
              "      <td>3</td>\n",
              "      <td>0.003364</td>\n",
              "      <td>2181</td>\n",
              "    </tr>\n",
              "    <tr>\n",
              "      <th>3</th>\n",
              "      <td>Significant_Damage_And_Serious_Injuries</td>\n",
              "      <td>48.082192</td>\n",
              "      <td>11</td>\n",
              "      <td>9</td>\n",
              "      <td>74.703737</td>\n",
              "      <td>0.337029</td>\n",
              "      <td>81.79</td>\n",
              "      <td>3</td>\n",
              "      <td>42771.499200</td>\n",
              "      <td>1</td>\n",
              "      <td>0.211728</td>\n",
              "      <td>5946</td>\n",
              "    </tr>\n",
              "    <tr>\n",
              "      <th>4</th>\n",
              "      <td>Significant_Damage_And_Fatalities</td>\n",
              "      <td>26.484018</td>\n",
              "      <td>13</td>\n",
              "      <td>25</td>\n",
              "      <td>47.948952</td>\n",
              "      <td>0.541140</td>\n",
              "      <td>77.16</td>\n",
              "      <td>3</td>\n",
              "      <td>35509.228515</td>\n",
              "      <td>2</td>\n",
              "      <td>0.176883</td>\n",
              "      <td>9054</td>\n",
              "    </tr>\n",
              "  </tbody>\n",
              "</table>\n",
              "</div>"
            ],
            "text/plain": [
              "                                  Severity  ...  Accident_ID\n",
              "0                Minor_Damage_And_Injuries  ...         7570\n",
              "1                Minor_Damage_And_Injuries  ...        12128\n",
              "2        Significant_Damage_And_Fatalities  ...         2181\n",
              "3  Significant_Damage_And_Serious_Injuries  ...         5946\n",
              "4        Significant_Damage_And_Fatalities  ...         9054\n",
              "\n",
              "[5 rows x 12 columns]"
            ]
          },
          "metadata": {
            "tags": []
          },
          "execution_count": 4
        }
      ]
    },
    {
      "cell_type": "code",
      "metadata": {
        "id": "vZX-pK-eV0Zy",
        "colab_type": "code",
        "colab": {}
      },
      "source": [
        ""
      ],
      "execution_count": 0,
      "outputs": []
    }
  ]
}